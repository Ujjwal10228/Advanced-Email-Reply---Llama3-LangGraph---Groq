{
  "cells": [
    {
      "cell_type": "code",
      "execution_count": 25,
      "metadata": {
        "id": "vB9wXbfihsAS"
      },
      "outputs": [],
      "source": [
        "!pip -q install langchain-groq duckduckgo-search\n",
        "!pip -q install -U langchain_community tiktoken langchainhub\n",
        "!pip -q install -U langchain langgraph tavily-python"
      ]
    },
    {
      "cell_type": "code",
      "execution_count": 26,
      "metadata": {
        "colab": {
          "base_uri": "https://localhost:8080/"
        },
        "id": "9oeUaYfNiVy2",
        "outputId": "79666be2-48a7-4545-f771-c26636001804"
      },
      "outputs": [
        {
          "name": "stdout",
          "output_type": "stream",
          "text": [
            "Name: langgraph\n",
            "Version: 0.1.15\n",
            "Summary: Building stateful, multi-actor applications with LLMs\n",
            "Home-page: https://www.github.com/langchain-ai/langgraph\n",
            "Author: \n",
            "Author-email: \n",
            "License: MIT\n",
            "Location: C:\\Users\\ujjwa\\anaconda3\\envs\\qiskit_env\\Lib\\site-packages\n",
            "Requires: langchain-core\n",
            "Required-by: \n"
          ]
        }
      ],
      "source": [
        "!pip show langgraph"
      ]
    },
    {
      "cell_type": "code",
      "execution_count": 27,
      "metadata": {
        "colab": {
          "base_uri": "https://localhost:8080/"
        },
        "id": "GEds-cB42d_e",
        "outputId": "b25ee437-d436-4e85-819b-c7992ef834eb"
      },
      "outputs": [
        {
          "name": "stdout",
          "output_type": "stream",
          "text": [
            "Requirement already satisfied: mysql-connector-python in c:\\users\\ujjwa\\anaconda3\\envs\\qiskit_env\\lib\\site-packages (9.0.0)\n",
            "Note: you may need to restart the kernel to use updated packages.\n"
          ]
        }
      ],
      "source": [
        "pip install mysql-connector-python\n"
      ]
    },
    {
      "cell_type": "code",
      "execution_count": null,
      "metadata": {},
      "outputs": [],
      "source": [
        "# from langchain.prompts import PromptTemplate\n",
        "# import mysql.connector\n",
        "\n",
        "# def get_database_connection():\n",
        "#     return mysql.connector.connect(\n",
        "#         host=\"localhost\",\n",
        "#         user=\"root\",\n",
        "#         password=\"Prajapati@123\",\n",
        "#         database=\"filmcity\"\n",
        "#     )\n",
        "\n",
        "# def fetch_item_availability(item_name):\n",
        "#     connection = get_database_connection()\n",
        "#     cursor = connection.cursor(dictionary=True)\n",
        "#     query = \"SELECT availability, price FROM inventory WHERE item_name = %s\"\n",
        "#     cursor.execute(query, (item_name,))\n",
        "#     result = cursor.fetchone()\n",
        "#     cursor.close()\n",
        "#     connection.close()\n",
        "#     return result\n",
        "\n",
        "# draft_writer_prompt = PromptTemplate(\n",
        "#     template=\"\"\"system\n",
        "#     You are the Email Writer Agent. Take the INITIAL_EMAIL below from a human that has emailed our company email address, the email_category \\\n",
        "#     that the categorizer agent gave it, and the research from the research agent, and \\\n",
        "#     write a helpful email in a thoughtful and friendly way.\n",
        "\n",
        "#     Categories and actions:\n",
        "#     - If the email_category is 'inquiry', check the database for item availability:\n",
        "#         - If available, reply with the item's price.\n",
        "#         - If not available, suggest similar available items.\n",
        "#     - If the email_category is 'review':\n",
        "#         - For positive reviews, thank the sender and encourage them to share their experience on social media.\n",
        "#         - For negative reviews, escalate to the CRM system for follow-up with a phone call from customer service and offer a gift voucher in the reply.\n",
        "#     - If the email_category is 'assistance_request', use a Retrieval-Augmented Generation (RAG) approach to search for solutions to reported equipment issues:\n",
        "#         - If a suitable solution is found, provide it in the reply.\n",
        "#         - If no solution is found, escalate the issue to customer service.\n",
        "#     - If the email_category is 'general', forward the email to customer service for further evaluation.\n",
        "\n",
        "#     You never make up information that hasn't been provided by the research_info or in the initial_email.\n",
        "#     Always sign off the emails in an appropriate manner and from Sarah, the Resident Manager.\n",
        "\n",
        "#     Return the email as JSON with a single key 'email_draft' and no preamble or explanation.\n",
        "\n",
        "#     user\n",
        "#     INITIAL_EMAIL: {initial_email} \\n\n",
        "#     EMAIL_CATEGORY: {email_category} \\n\n",
        "#     RESEARCH_INFO: {research_info} \\n\n",
        "#     assistant\n",
        "#     \"\"\",\n",
        "#     input_variables=[\"initial_email\",\"email_category\",\"research_info\"],\n",
        "# )\n",
        "\n",
        "# def generate_email_response(initial_email, email_category, research_info):\n",
        "#     if email_category == 'inquiry':\n",
        "#         item_name = research_info.get('item_name')\n",
        "#         item_info = fetch_item_availability(item_name)\n",
        "#         if item_info:\n",
        "#             if item_info['availability']:\n",
        "#                 research_info['response'] = f\"The item is available at a price of ${item_info['price']}.\"\n",
        "#             else:\n",
        "#                 research_info['response'] = \"The item is currently not available. Here are some similar items...\"\n",
        "#         else:\n",
        "#             research_info['response'] = \"The item is not found in our inventory.\"\n",
        "\n",
        "#     # Call the prompt with the updated research_info\n",
        "#     email_draft = draft_writer_prompt(initial_email=initial_email, email_category=email_category, research_info=research_info)\n",
        "#     return email_draft['email_draft']\n",
        "\n",
        "# # Example usage\n",
        "# initial_email = \"Hi, I would like to know the availability and price of the Sony A7III camera.\"\n",
        "# email_category = \"inquiry\"\n",
        "# research_info = {\"item_name\": \"Sony A7III\"}\n",
        "\n",
        "# email_response = generate_email_response(initial_email, email_category, research_info)\n",
        "# print(email_response)\n"
      ]
    },
    {
      "cell_type": "code",
      "execution_count": 28,
      "metadata": {
        "colab": {
          "base_uri": "https://localhost:8080/"
        },
        "id": "kAKxiXiS77Cd",
        "outputId": "43508afe-781b-46aa-f56c-224bd42e9830"
      },
      "outputs": [
        {
          "name": "stderr",
          "output_type": "stream",
          "text": [
            "'mysql' is not recognized as an internal or external command,\n",
            "operable program or batch file.\n"
          ]
        }
      ],
      "source": [
        "!mysql -h localhost -u root -p"
      ]
    },
    {
      "cell_type": "markdown",
      "metadata": {
        "id": "LI3IS3UEicwT"
      },
      "source": [
        "# The goal\n",
        "\n",
        "Reply to a customer email\n",
        "1. get the email\n",
        "2. categorize the email as a \"sales\", \"custom enquiry\", \"off topic\", \"customer complaint\"\n",
        "3. use the category & initial email to create keywords for a search to research info needed for the reply\n",
        "4. write a draft reply\n",
        "5. check the reply\n",
        "7. rewrite if needed\n",
        "\n"
      ]
    },
    {
      "cell_type": "code",
      "execution_count": 29,
      "metadata": {
        "id": "7FsoYkXAibIM"
      },
      "outputs": [],
      "source": [
        "import os\n",
        "import getpass\n",
        "# from google.colab import userdata\n",
        "\n",
        "GROQ_API_KEY = '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'\n",
        "TAVILY_API_KEY = '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'\n",
        "\n",
        "# os.environ[\"GROQ_API_KEY\"] = userdata.get('GROQ_API_KEY')\n",
        "os.environ[\"GROQ_API_KEY\"] = GROQ_API_KEY\n",
        "os.environ[\"TAVILY_API_KEY\"] = TAVILY_API_KEY"
      ]
    },
    {
      "cell_type": "code",
      "execution_count": 30,
      "metadata": {
        "id": "9QFX6r25ccjT"
      },
      "outputs": [],
      "source": [
        "### Tracing (optional)\n",
        "import os\n",
        "from pprint import pprint\n",
        "\n",
        "LANGCHAIN_API_KEY = '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'\n",
        "\n",
        "os.environ['LANGCHAIN TRACING V2'] = 'true'\n",
        "os.environ['LANGCHAIN_ENDPOINT'] = 'https://api.smith.langchain.com'\n",
        "os.environ['LANGCHAIN API KEY'] = LANGCHAIN_API_KEY"
      ]
    },
    {
      "cell_type": "code",
      "execution_count": 31,
      "metadata": {
        "id": "XtrZ-qh8cuDi"
      },
      "outputs": [],
      "source": [
        "from langchain_groq import ChatGroq\n",
        "\n",
        "GROQ_LLM = ChatGroq(\n",
        "    model=\"llama3-70b-8192\"\n",
        ")"
      ]
    },
    {
      "cell_type": "code",
      "execution_count": 32,
      "metadata": {
        "id": "YGMXzyudc_Ar"
      },
      "outputs": [],
      "source": [
        "from langchain_core.prompts import ChatPromptTemplate\n",
        "from langchain.prompts import PromptTemplate\n",
        "\n",
        "from langchain_core.output_parsers import StrOutputParser\n",
        "from langchain_core.output_parsers import JsonOutputParser\n"
      ]
    },
    {
      "cell_type": "markdown",
      "metadata": {
        "id": "_SnRcwcEda-5"
      },
      "source": [
        "### Utils"
      ]
    },
    {
      "cell_type": "code",
      "execution_count": 33,
      "metadata": {
        "id": "Wlw_bWIrdaRg"
      },
      "outputs": [],
      "source": [
        "def write_markdown_file(content, filename):\n",
        "  \"\"\"Writes the given content as a markdown file to the local directory.\n",
        "\n",
        "  Args:\n",
        "    content: The string content to write to the file.\n",
        "    filename: The filename to save the file as.\n",
        "    \"\"\"\n",
        "  with open(f\"{filename}.md\", \"w\") as f:\n",
        "    f.write(content)"
      ]
    },
    {
      "cell_type": "markdown",
      "metadata": {
        "id": "-iJe3DBseD2w"
      },
      "source": [
        "## Basic Chains\n",
        "\n",
        "1. Categorize EMAIL  \n",
        "2. Research Router  \n",
        "3. Search Keywords  \n",
        "4. Write Draft Email  \n",
        "5. Rewrite Router  \n",
        "6. Draft Email Analysis  \n",
        "7. Rewrite Email"
      ]
    },
    {
      "cell_type": "code",
      "execution_count": 34,
      "metadata": {
        "colab": {
          "base_uri": "https://localhost:8080/"
        },
        "id": "utltYFxjdz68",
        "outputId": "9d33767b-2ace-4aba-ab6b-b03cd376f2f9"
      },
      "outputs": [
        {
          "name": "stdout",
          "output_type": "stream",
          "text": [
            "'customer_feedback'\n"
          ]
        }
      ],
      "source": [
        "# Categorize Email\n",
        "prompt = PromptTemplate(\n",
        "    template=\"\"\"<|begin_of_text|><|start_header_id|>system<|end_header_id|>\n",
        "    You are a Email Categorizer Agent You are a master at understanding what a customer wants when they write an email and are able to categorize it in a useful way\n",
        "\n",
        "     <|eot_id|><|start_header_id|>user<|end_header_id|>\n",
        "    Conduct a comprehensive analysis of the email provided and categorize into one of the following categories:\n",
        "        price_enquiry - used when someone is asking for information about pricing \\\n",
        "        customer_complaint - used when someone is complaining about something \\\n",
        "        product_enquiry - used when someone is asking for information about a product feature, benefit or service but not about pricing \\\\\n",
        "        customer_feedback - used when someone is giving feedback about a product \\\n",
        "        off_topic when it doesnt relate to any other category \\\n",
        "\n",
        "\n",
        "            Output a single cetgory only from the types ('price_equiry', 'customer_complaint', 'product_enquiry', 'customer_feedback', 'off_topic') \\\n",
        "            eg:\n",
        "            'price_enquiry' \\\n",
        "\n",
        "    EMAIL CONTENT:\\n\\n {initial_email} \\n\\n\n",
        "    <|eot_id|>\n",
        "    <|start_header_id|>assistant<|end_header_id|>\n",
        "    \"\"\",\n",
        "    input_variables=[\"initial_email\"],\n",
        ")\n",
        "\n",
        "email_category_generator = prompt | GROQ_LLM | StrOutputParser()\n",
        "\n",
        "EMAIL = \"\"\"HI there, \\n\n",
        "I am emailing to say that I had a wonderful stay at your resort last week. \\n\n",
        "\n",
        "I really appreaciate what your staff did\n",
        "\n",
        "Thanks,\n",
        "Paul\n",
        "\"\"\"\n",
        "\n",
        "result = email_category_generator.invoke({\"initial_email\": EMAIL})\n",
        "\n",
        "print(result)"
      ]
    },
    {
      "cell_type": "code",
      "execution_count": 35,
      "metadata": {
        "colab": {
          "base_uri": "https://localhost:8080/"
        },
        "id": "i2N39IU27qz6",
        "outputId": "37abc056-6f9e-422e-f78e-220b7fbf52ef"
      },
      "outputs": [
        {
          "name": "stdout",
          "output_type": "stream",
          "text": [
            "'review'\n"
          ]
        }
      ],
      "source": [
        "### Modified Categorize Email\n",
        "# from langchain import PromptTemplate, GROQ_LLM, StrOutputParser\n",
        "\n",
        "# Categorize Email\n",
        "prompt = PromptTemplate(\n",
        "    template=\"\"\"system\n",
        "    You are an Email Categorizer Agent. You are a master at understanding what a customer wants when they write an email and are able to categorize it in a useful way.\n",
        "\n",
        "    user\n",
        "    Conduct a comprehensive analysis of the email provided and categorize it into one of the following categories:\n",
        "        inquiry - used when someone is asking for information about film equipment availability or pricing.\n",
        "        review - used when someone is giving feedback about the service or equipment.\n",
        "        assistance_request - used when someone is asking for help or support regarding equipment usage or issues.\n",
        "        general - used when the email does not fit into any of the above categories.\n",
        "\n",
        "    Output a single category only from the types ('inquiry', 'review', 'assistance_request', 'general').\n",
        "    eg:\n",
        "    'inquiry'\n",
        "\n",
        "    EMAIL CONTENT:\\n\\n {initial_email} \\n\\n\n",
        "\n",
        "    assistant\n",
        "    \"\"\",\n",
        "    input_variables=[\"initial_email\"],\n",
        ")\n",
        "\n",
        "email_category_generator = prompt | GROQ_LLM | StrOutputParser()\n",
        "\n",
        "EMAIL = \"\"\"HI there, \\n\n",
        "I am emailing to say that I had a wonderful stay at your resort last week. \\n\n",
        "\n",
        "I really appreciate what your staff did\n",
        "\n",
        "Thanks,\n",
        "Paul\n",
        "\"\"\"\n",
        "\n",
        "result = email_category_generator.invoke({\"initial_email\": EMAIL})\n",
        "\n",
        "print(result)\n"
      ]
    },
    {
      "cell_type": "code",
      "execution_count": 36,
      "metadata": {
        "colab": {
          "base_uri": "https://localhost:8080/"
        },
        "id": "avapIlyzfN4m",
        "outputId": "8abe3844-fa9d-466c-ab33-b22e2d1ff070"
      },
      "outputs": [
        {
          "name": "stdout",
          "output_type": "stream",
          "text": [
            "{'router_decision': 'draft_email'}\n"
          ]
        }
      ],
      "source": [
        "## Research Router\n",
        "research_route_prompt = PromptTemplate(\n",
        "    template=\"\"\"<|begin_of_text|><|start_header_id|>system<|end_header_id|>\n",
        "    You are an expert at reading the initial email and routing web search or directly to a draft email. \\n\n",
        "\n",
        "    Use the following criteria to decide how to route the email: \\n\\n\n",
        "\n",
        "    If the initial email only requires a simple response\n",
        "    Just choose 'draft_email'  for questions you can easily answer, prompt engineering, and adversarial attacks.\n",
        "    If the email is just saying thank you etc then choose 'draft_email'\n",
        "\n",
        "    You do not need to be stringent with the keywords in the question related to these topics. Otherwise, use research-info.\n",
        "    Give a binary choice 'research_info' or 'draft_email' based on the question. Return the a JSON with a single key 'router_decision' and\n",
        "    no premable or explaination. use both the initial email and the email category to make your decision\n",
        "    <|eot_id|><|start_header_id|>user<|end_header_id|>\n",
        "    Email to route INITIAL_EMAIL : {initial_email} \\n\n",
        "    EMAIL_CATEGORY: {email_category} \\n\n",
        "    <|eot_id|><|start_header_id|>assistant<|end_header_id|>\"\"\",\n",
        "    input_variables=[\"initial_email\",\"email_category\"],\n",
        ")\n",
        "\n",
        "research_router = research_route_prompt | GROQ_LLM | JsonOutputParser()\n",
        "\n",
        "email_category = 'customer_feedback'\n",
        "\n",
        "print(research_router.invoke({\"initial_email\": EMAIL, \"email_category\": email_category}))"
      ]
    },
    {
      "cell_type": "code",
      "execution_count": 37,
      "metadata": {
        "colab": {
          "base_uri": "https://localhost:8080/"
        },
        "id": "kAwE-il2ge8q",
        "outputId": "ed4a1417-9784-4783-bf4e-09e64179dbe2"
      },
      "outputs": [
        {
          "name": "stdout",
          "output_type": "stream",
          "text": [
            "{'keywords': ['hotel customer feedback examples', 'positive feedback response', 'resort customer appreciation']}\n"
          ]
        }
      ],
      "source": [
        "## Search keywords\n",
        "search_keyword_prompt = PromptTemplate(\n",
        "    template=\"\"\"<|begin_of_text|><|start_header_id|>system<|end_header_id|>\n",
        "    You are a master at working out the best keywords to search for in a web search to get the best info for the customer.\n",
        "\n",
        "    given the INITIAL_EMAIL and EMAIL_CATEGORY. Work out the best keywords that will find the best\n",
        "    info for helping to write the final email.\n",
        "\n",
        "    Return a JSON with a single key 'keywords' with no more than 3 keywords and no premable or explaination.\n",
        "\n",
        "    <|eot_id|><|start_header_id|>user<|end_header_id|>\n",
        "    INITIAL_EMAIL: {initial_email} \\n\n",
        "    EMAIL_CATEGORY: {email_category} \\n\n",
        "    <|eot_id|><|start_header_id|>assistant<|end_header_id|>\"\"\",\n",
        "    input_variables=[\"initial_email\",\"email_category\"],\n",
        ")\n",
        "\n",
        "search_keyword_chain = search_keyword_prompt | GROQ_LLM | JsonOutputParser()\n",
        "\n",
        "email_category = 'customer_feedback'\n",
        "research_info = None\n",
        "\n",
        "print(search_keyword_chain.invoke({\"initial_email\": EMAIL, \"email_category\":email_category}))"
      ]
    },
    {
      "cell_type": "code",
      "execution_count": 38,
      "metadata": {
        "colab": {
          "base_uri": "https://localhost:8080/"
        },
        "id": "hQXL-AFIhUnA",
        "outputId": "49ad3389-bfcc-418b-e2a6-750b2cacdb09"
      },
      "outputs": [
        {
          "name": "stdout",
          "output_type": "stream",
          "text": [
            "{'email_draft': \"Dear Paul,\\n\\nThank you so much for taking the time to share your wonderful experience at our resort! We're thrilled to hear that our staff made a positive impact on your stay. Your kind words mean the world to us, and we'll be sure to pass them along to our team.\\n\\nWe value your feedback and appreciate your loyalty. We're always striving to improve and provide the best experience possible for our guests. If you have any suggestions or ideas on how we can continue to exceed your expectations, please don't hesitate to share them with us.\\n\\nOnce again, thank you for your kind words and for choosing to stay with us. We can't wait to welcome you back again soon!\\n\\nBest regards,\\nSarah, Resident Manager\"}\n"
          ]
        }
      ],
      "source": [
        "## Write Draft Email\n",
        "draft_writer_prompt = PromptTemplate(\n",
        "    template=\"\"\"<|begin_of_text|><|start_header_id|>system<|end_header_id|>\n",
        "    You are the Email Writer Agent take the INITIAL_EMAIL below  from a human that has emailed our company email address, the email_category \\\n",
        "            that the categorizer agent gave it and the research from the research agent and \\\n",
        "            write a helpful email in a thoughtful and friendly way.\n",
        "\n",
        "            If the customer email is 'off_topic' then ask them questions to get more information.\n",
        "            If the customer email is 'customer_complaint' then try to assure we value them and that we are addressing their issues.\n",
        "            If the customer email is 'customer_feedback' then try to assure we value them and that we are addressing their issues.\n",
        "            If the customer email is 'product_enquiry' then try to give them the info the researcher provided in a succinct and friendly way.\n",
        "            If the customer email is 'price_equiry' then try to give the pricing info they requested.\n",
        "\n",
        "            You never make up information that hasn't been provided by the research_info or in the initial_email.\n",
        "            Always sign off the emails in appropriate manner and from Sarah the Resident Manager.\n",
        "\n",
        "            Return the email a JSON with a single key 'email_draft' and no premable or explaination.\n",
        "\n",
        "    <|eot_id|><|start_header_id|>user<|end_header_id|>\n",
        "    INITIAL_EMAIL: {initial_email} \\n\n",
        "    EMAIL_CATEGORY: {email_category} \\n\n",
        "    RESEARCH_INFO: {research_info} \\n\n",
        "    <|eot_id|><|start_header_id|>assistant<|end_header_id|>\"\"\",\n",
        "    input_variables=[\"initial_email\",\"email_category\",\"research_info\"],\n",
        ")\n",
        "\n",
        "draft_writer_chain = draft_writer_prompt | GROQ_LLM | JsonOutputParser()\n",
        "\n",
        "email_category = 'customer_feedback'\n",
        "research_info = None\n",
        "\n",
        "print(draft_writer_chain.invoke({\"initial_email\": EMAIL, \"email_category\":email_category, \"research_info\": research_info}))\n"
      ]
    },
    {
      "cell_type": "code",
      "execution_count": 44,
      "metadata": {},
      "outputs": [
        {
          "name": "stdout",
          "output_type": "stream",
          "text": [
            "Dear Customer, ...\n"
          ]
        }
      ],
      "source": [
        "from langchain.prompts import PromptTemplate\n",
        "import mysql.connector\n",
        "\n",
        "def get_database_connection():\n",
        "    return mysql.connector.connect(\n",
        "        host=\"localhost\",\n",
        "        user=\"root\",\n",
        "        password=\"Prajapati@123\",\n",
        "        database=\"filmcity\"\n",
        "    )\n",
        "\n",
        "def fetch_item_availability(item_name):\n",
        "    connection = get_database_connection()\n",
        "    cursor = connection.cursor(dictionary=True)\n",
        "    query = \"SELECT StockQuantity, Price FROM products WHERE ProductName = %s\"\n",
        "    cursor.execute(query, (item_name,))\n",
        "    result = cursor.fetchone()\n",
        "    cursor.close()\n",
        "    connection.close()\n",
        "    return result\n",
        "\n",
        "draft_writer_prompt = PromptTemplate(\n",
        "    template=\"\"\"system\n",
        "    You are the Email Writer Agent. Take the INITIAL_EMAIL below from a human that has emailed our company email address, the email_category \\\n",
        "    that the categorizer agent gave it, and the research from the research agent, and \\\n",
        "    write a helpful email in a thoughtful and friendly way.\n",
        "\n",
        "    Categories and actions:\n",
        "    - If the email_category is 'inquiry', check the database for item availability:\n",
        "        - If available, reply with the item's price.\n",
        "        - If not available, suggest similar available items.\n",
        "    - If the email_category is 'review':\n",
        "        - For positive reviews, thank the sender and encourage them to share their experience on social media.\n",
        "        - For negative reviews, escalate to the CRM system for follow-up with a phone call from customer service and offer a gift voucher in the reply.\n",
        "    - If the email_category is 'assistance_request', use a Retrieval-Augmented Generation (RAG) approach to search for solutions to reported equipment issues:\n",
        "        - If a suitable solution is found, provide it in the reply.\n",
        "        - If no solution is found, escalate the issue to customer service.\n",
        "    - If the email_category is 'general', forward the email to customer service for further evaluation.\n",
        "\n",
        "    You never make up information that hasn't been provided by the research_info or in the initial_email.\n",
        "    Always sign off the emails in an appropriate manner and from Sarah, the Resident Manager.\n",
        "\n",
        "    Return the email as JSON with a single key 'email_draft' and no preamble or explanation.\n",
        "\n",
        "    user\n",
        "    INITIAL_EMAIL: {initial_email} \\n\n",
        "    EMAIL_CATEGORY: {email_category} \\n\n",
        "    RESEARCH_INFO: {research_info} \\n\n",
        "    assistant\n",
        "    \"\"\",\n",
        "    input_variables=[\"initial_email\",\"email_category\",\"research_info\"],\n",
        ")\n",
        "\n",
        "def generate_language_model_response(prompt):\n",
        "    # Assuming you have a function to get a response from the language model\n",
        "    # Here is a mock response for demonstration purposes\n",
        "    return {\"email_draft\": \"Dear Customer, ...\"}\n",
        "\n",
        "def generate_email_response(initial_email, email_category, research_info):\n",
        "    if email_category == 'inquiry':\n",
        "        item_name = research_info.get('item_name')\n",
        "        item_info = fetch_item_availability(item_name)\n",
        "        if item_info:\n",
        "            if item_info['StockQuantity']:\n",
        "                research_info['response'] = f\"The item is available at a price of ${item_info['Price']}.\"\n",
        "            else:\n",
        "                research_info['response'] = \"The item is currently not available. Here are some similar items...\"\n",
        "        else:\n",
        "            research_info['response'] = \"The item is not found in our inventory.\"\n",
        "\n",
        "    # Generate the prompt using the format method\n",
        "    prompt = draft_writer_prompt.format(initial_email=initial_email, email_category=email_category, research_info=research_info)\n",
        "    \n",
        "    # Get the response from the language model\n",
        "    email_draft = generate_language_model_response(prompt)\n",
        "    \n",
        "    return email_draft['email_draft']\n",
        "\n",
        "# Example usage\n",
        "initial_email = \"Hi, I would like to know the availability and price of the Sony A7III camera.\"\n",
        "email_category = \"inquiry\"\n",
        "research_info = {\"item_name\": \"Sony A7III\"}\n",
        "\n",
        "email_response = generate_email_response(initial_email, email_category, research_info)\n",
        "print(email_response)\n"
      ]
    },
    {
      "cell_type": "code",
      "execution_count": 45,
      "metadata": {
        "colab": {
          "base_uri": "https://localhost:8080/"
        },
        "id": "1Tlz2oorh3KO",
        "outputId": "fadee824-ec40-4f41-927a-9f4750dcb9ee"
      },
      "outputs": [
        {
          "name": "stdout",
          "output_type": "stream",
          "text": [
            "{'router_decision': 'rewrite'}\n"
          ]
        }
      ],
      "source": [
        "## Rewrite Router\n",
        "rewrite_router_prompt = PromptTemplate(\n",
        "    template=\"\"\"<|begin_of_text|><|start_header_id|>system<|end_header_id|>\n",
        "    You are an expert at evaluating the emails that are draft emails for the customer and deciding if they\n",
        "    need to be rewritten to be better. \\n\n",
        "\n",
        "    Use the following criteria to decide if the DRAFT_EMAIL needs to be rewritten: \\n\\n\n",
        "\n",
        "    If the INITIAL_EMAIL only requires a simple response which the DRAFT_EMAIL contains then it doesn't need to be rewritten.\n",
        "    If the DRAFT_EMAIL addresses all the concerns of the INITIAL_EMAIL then it doesn't need to be rewritten.\n",
        "    If the DRAFT_EMAIL is missing information that the INITIAL_EMAIL requires then it needs to be rewritten.\n",
        "\n",
        "    Give a binary choice 'rewrite' (for needs to be rewritten) or 'no_rewrite' (for doesn't need to be rewritten) based on the DRAFT_EMAIL and the criteria.\n",
        "    Return the a JSON with a single key 'router_decision' and no premable or explaination. \\\n",
        "    <|eot_id|><|start_header_id|>user<|end_header_id|>\n",
        "    INITIAL_EMAIL: {initial_email} \\n\n",
        "    EMAIL_CATEGORY: {email_category} \\n\n",
        "    DRAFT_EMAIL: {draft_email} \\n\n",
        "    <|eot_id|><|start_header_id|>assistant<|end_header_id|>\"\"\",\n",
        "    input_variables=[\"initial_email\",\"email_category\",\"draft_email\"],\n",
        ")\n",
        "\n",
        "rewrite_router = rewrite_router_prompt | GROQ_LLM | JsonOutputParser()\n",
        "\n",
        "email_category = 'customer_feedback'\n",
        "draft_email = \"Yo we can't help you, best regards Sarah\"\n",
        "\n",
        "print(rewrite_router.invoke({\"initial_email\": EMAIL, \"email_category\":email_category, \"draft_email\":draft_email}))"
      ]
    },
    {
      "cell_type": "code",
      "execution_count": 46,
      "metadata": {
        "colab": {
          "base_uri": "https://localhost:8080/"
        },
        "id": "_mcJXQ0liuQl",
        "outputId": "5f13afa2-9e7a-46da-b056-edb71a9676c8"
      },
      "outputs": [
        {
          "name": "stdout",
          "output_type": "stream",
          "text": [
            "{'draft_analysis': {'addressing_customer_issue': 'fail',\n",
            "                    'changes_needed': 'Add a personalized greeting, '\n",
            "                                      'acknowledge and thank the customer for '\n",
            "                                      'their feedback, express appreciation '\n",
            "                                      'for their stay, and consider adding a '\n",
            "                                      'loyalty program or incentive.',\n",
            "                    'improvement_feedback': 'The draft email does not '\n",
            "                                            'acknowledge or respond to the '\n",
            "                                            \"customer's positive feedback. It \"\n",
            "                                            'seems dismissive and '\n",
            "                                            'unprofessional. A more '\n",
            "                                            'appropriate response would be to '\n",
            "                                            'thank the customer for their '\n",
            "                                            'feedback, express appreciation '\n",
            "                                            'for their stay, and possibly '\n",
            "                                            'offer a loyalty program or '\n",
            "                                            'incentive for their next visit.'}}\n"
          ]
        }
      ],
      "source": [
        "## Draft Email Analysis\n",
        "draft_analysis_prompt = PromptTemplate(\n",
        "    template=\"\"\"<|begin_of_text|><|start_header_id|>system<|end_header_id|>\n",
        "    You are the Quality Control Agent read the INITIAL_EMAIL below  from a human that has emailed \\\n",
        "    our company email address, the email_category that the categorizer agent gave it and the \\\n",
        "    research from the research agent and write an analysis of how the email.\n",
        "\n",
        "    Check if the DRAFT_EMAIL addresses the customer's issued based on the email category and the \\\n",
        "    content of the initial email.\\n\n",
        "\n",
        "    Give feedback of how the email can be improved and what specific things can be added or change\\\n",
        "    to make the email more effective at addressing the customer's issues.\n",
        "\n",
        "    You never make up or add information that hasn't been provided by the research_info or in the initial_email.\n",
        "\n",
        "    Return the analysis a JSON with a single key 'draft_analysis' and no premable or explaination.\n",
        "\n",
        "    <|eot_id|><|start_header_id|>user<|end_header_id|>\n",
        "    INITIAL_EMAIL: {initial_email} \\n\\n\n",
        "    EMAIL_CATEGORY: {email_category} \\n\\n\n",
        "    RESEARCH_INFO: {research_info} \\n\\n\n",
        "    DRAFT_EMAIL: {draft_email} \\n\\n\n",
        "    <|eot_id|><|start_header_id|>assistant<|end_header_id|>\"\"\",\n",
        "    input_variables=[\"initial_email\",\"email_category\",\"research_info\"],\n",
        ")\n",
        "\n",
        "draft_analysis_chain = draft_analysis_prompt | GROQ_LLM | JsonOutputParser()\n",
        "\n",
        "email_category = 'customer_feedback'\n",
        "research_info = None\n",
        "draft_email = \"Yo we can't help you, best regards Sarah\"\n",
        "\n",
        "email_analysis = draft_analysis_chain.invoke({\"initial_email\": EMAIL,\n",
        "                                 \"email_category\":email_category,\n",
        "                                 \"research_info\":research_info,\n",
        "                                 \"draft_email\": draft_email})\n",
        "\n",
        "pprint(email_analysis)"
      ]
    },
    {
      "cell_type": "code",
      "execution_count": 47,
      "metadata": {
        "colab": {
          "base_uri": "https://localhost:8080/",
          "height": 105
        },
        "id": "rIxVJzAWjuWv",
        "outputId": "cb0f0e6b-aace-4e0e-9b59-9582daed9df3"
      },
      "outputs": [
        {
          "data": {
            "text/plain": [
              "\"Dear valued customer, I wanted to take a moment to personally thank you for taking the time to share your feedback with us. We truly appreciate your loyalty and are grateful for the opportunity to have had you as our guest. We value your opinions and are always looking for ways to improve. As a token of our appreciation, we would like to offer you a loyalty program for your next visit. Please let us know if there's anything else we can do to make your next stay even more enjoyable. Best regards, Sarah\""
            ]
          },
          "execution_count": 47,
          "metadata": {},
          "output_type": "execute_result"
        }
      ],
      "source": [
        "## Rewrite Email with ANlysis\n",
        "rewrite_email_prompt = PromptTemplate(\n",
        "    template=\"\"\"<|begin_of_text|><|start_header_id|>system<|end_header_id|>\n",
        "    You are the Final Email Agent read the email analysis below from the QC Agent \\\n",
        "    and use it to rewrite and improve the draft_email to create a final email.\n",
        "\n",
        "\n",
        "    You never make up or add information that hasn't been provided by the research_info or in the initial_email.\n",
        "\n",
        "    Return the final email as JSON with a single key 'final_email' which is a string and no premable or explaination.\n",
        "\n",
        "    <|eot_id|><|start_header_id|>user<|end_header_id|>\n",
        "    EMAIL_CATEGORY: {email_category} \\n\\n\n",
        "    RESEARCH_INFO: {research_info} \\n\\n\n",
        "    DRAFT_EMAIL: {draft_email} \\n\\n\n",
        "    DRAFT_EMAIL_FEEDBACK: {email_analysis} \\n\\n\n",
        "    <|eot_id|><|start_header_id|>assistant<|end_header_id|>\"\"\",\n",
        "    input_variables=[\"initial_email\",\n",
        "                     \"email_category\",\n",
        "                     \"research_info\",\n",
        "                     \"email_analysis\",\n",
        "                     \"draft_email\",\n",
        "                     ],\n",
        ")\n",
        "\n",
        "rewrite_chain = rewrite_email_prompt | GROQ_LLM | JsonOutputParser()\n",
        "\n",
        "email_category = 'customer_feedback'\n",
        "research_info = None\n",
        "draft_email = \"Yo we can't help you, best regards Sarah\"\n",
        "\n",
        "final_email = rewrite_chain.invoke({\"initial_email\": EMAIL,\n",
        "                                 \"email_category\":email_category,\n",
        "                                 \"research_info\":research_info,\n",
        "                                 \"draft_email\": draft_email,\n",
        "                                \"email_analysis\":email_analysis})\n",
        "\n",
        "final_email['final_email']"
      ]
    },
    {
      "cell_type": "markdown",
      "metadata": {
        "id": "RN9KDDONkmxq"
      },
      "source": [
        "### Tool Setup"
      ]
    },
    {
      "cell_type": "code",
      "execution_count": 48,
      "metadata": {
        "id": "9rYXHN5mkauf"
      },
      "outputs": [],
      "source": [
        "### Search\n",
        "\n",
        "from langchain_community.tools.tavily_search import TavilySearchResults\n",
        "\n",
        "web_search_tool = TavilySearchResults(k=1)"
      ]
    },
    {
      "cell_type": "markdown",
      "metadata": {
        "id": "edzVfDNyoQuR"
      },
      "source": [
        "### State"
      ]
    },
    {
      "cell_type": "code",
      "execution_count": 49,
      "metadata": {
        "id": "2W-DyeSUk3VB"
      },
      "outputs": [],
      "source": [
        "from langchain.schema import Document\n",
        "from langgraph.graph import END, StateGraph"
      ]
    },
    {
      "cell_type": "code",
      "execution_count": 50,
      "metadata": {
        "id": "ELhMrxp4oZWj"
      },
      "outputs": [],
      "source": [
        "from typing_extensions import TypedDict\n",
        "from typing import List\n",
        "\n",
        "# State\n",
        "\n",
        "class GraphState(TypedDict):\n",
        "  \"\"\"\n",
        "    Represents the state of our graph.\n",
        "\n",
        "    Attributes:\n",
        "        initial_email: email\n",
        "        email_category: email category\n",
        "        draft_email: LLM generation\n",
        "        final_email: LLM generation\n",
        "        research_info: list of documents\n",
        "        info_needed: whether to add search info\n",
        "        num_steps: number of steps\n",
        "    \"\"\"\n",
        "\n",
        "  initial_email: str\n",
        "  email_category: str\n",
        "  draft_email: str\n",
        "  final_email: str\n",
        "  research_info: List[str]\n",
        "  info_needed: bool\n",
        "  num_steps: int\n",
        "  draft_email_feedback: dict"
      ]
    },
    {
      "cell_type": "markdown",
      "metadata": {
        "id": "aFUlwrqfqfBe"
      },
      "source": [
        "## Nodes\n",
        "\n",
        "1. categorize_email\n",
        "2. research_info_search  \n",
        "3. draft_email_writer  \n",
        "4. analyze_draft_email  \n",
        "5. rewrite_email  \n",
        "6. no_rewrite  \n",
        "7. state_printer\n"
      ]
    },
    {
      "cell_type": "code",
      "execution_count": 51,
      "metadata": {
        "id": "Hnlk_QtUqUCg"
      },
      "outputs": [],
      "source": [
        "def categorize_email(state):\n",
        "  \"\"\" take the initial email and categorize it\"\"\"\n",
        "  print(\"---CATEGORIZING INITIAL EMAIL---\")\n",
        "  initial_email = state['initial_email']\n",
        "  num_steps = int(state['num_steps'])\n",
        "  num_steps += 1\n",
        "\n",
        "  email_category = email_category_generator.invoke({\"initial_email\": initial_email})\n",
        "  print(email_category)\n",
        "  # save to local disk\n",
        "  write_markdown_file(email_category, \"email_category\")\n",
        "\n",
        "  return {\"email_category\": email_category, \"num_steps\":num_steps}"
      ]
    },
    {
      "cell_type": "code",
      "execution_count": 52,
      "metadata": {
        "id": "t8KFnxdBq6Kv"
      },
      "outputs": [],
      "source": [
        "\n",
        "def research_info_search(state):\n",
        "\n",
        "    print(\"---RESEARCH INFO SEARCHING---\")\n",
        "    initial_email = state[\"initial_email\"]\n",
        "    email_category = state[\"email_category\"]\n",
        "    research_info = state[\"research_info\"]\n",
        "    num_steps = state['num_steps']\n",
        "    num_steps += 1\n",
        "\n",
        "    # Web search\n",
        "    keywords = search_keyword_chain.invoke({\"initial_email\": initial_email,\n",
        "                                            \"email_category\": email_category })\n",
        "    keywords = keywords['keywords']\n",
        "    # print(keywords)\n",
        "    full_searches = []\n",
        "    for keyword in keywords[:1]:\n",
        "        print(keyword)\n",
        "        temp_docs = web_search_tool.invoke({\"query\": keyword})\n",
        "        web_results = \"\\n\".join([d[\"content\"] for d in temp_docs])\n",
        "        web_results = Document(page_content=web_results)\n",
        "        if full_searches is not None:\n",
        "            full_searches.append(web_results)\n",
        "        else:\n",
        "            full_searches = [web_results]\n",
        "    print(full_searches)\n",
        "    print(type(full_searches))\n",
        "    # write_markdown_file(full_searches, \"research_info\")\n",
        "    return {\"research_info\": full_searches, \"num_steps\":num_steps}"
      ]
    },
    {
      "cell_type": "code",
      "execution_count": 53,
      "metadata": {
        "id": "PaWpcg5-q8aE"
      },
      "outputs": [],
      "source": [
        "def draft_email_writer(state):\n",
        "    print(\"---DRAFT EMAIL WRITER---\")\n",
        "    ## Get the state\n",
        "    initial_email = state[\"initial_email\"]\n",
        "    email_category = state[\"email_category\"]\n",
        "    research_info = state[\"research_info\"]\n",
        "    num_steps = state['num_steps']\n",
        "    num_steps += 1\n",
        "\n",
        "    # Generate draft email\n",
        "    draft_email = draft_writer_chain.invoke({\"initial_email\": initial_email,\n",
        "                                     \"email_category\": email_category,\n",
        "                                     \"research_info\":research_info})\n",
        "    print(draft_email)\n",
        "    # print(type(draft_email))\n",
        "\n",
        "    email_draft = draft_email['email_draft']\n",
        "    write_markdown_file(email_draft, \"draft_email\")\n",
        "\n",
        "    return {\"draft_email\": email_draft, \"num_steps\":num_steps}"
      ]
    },
    {
      "cell_type": "code",
      "execution_count": 54,
      "metadata": {
        "id": "7AaxJU8LrGVL"
      },
      "outputs": [],
      "source": [
        "def analyze_draft_email(state):\n",
        "    print(\"---DRAFT EMAIL ANALYZER---\")\n",
        "    ## Get the state\n",
        "    initial_email = state[\"initial_email\"]\n",
        "    email_category = state[\"email_category\"]\n",
        "    draft_email = state[\"draft_email\"]\n",
        "    research_info = state[\"research_info\"]\n",
        "    num_steps = state['num_steps']\n",
        "    num_steps += 1\n",
        "\n",
        "    # Generate draft email\n",
        "    draft_email_feedback = draft_analysis_chain.invoke({\"initial_email\": initial_email,\n",
        "                                                \"email_category\": email_category,\n",
        "                                                \"research_info\":research_info,\n",
        "                                                \"draft_email\":draft_email}\n",
        "                                               )\n",
        "    # print(draft_email)\n",
        "    # print(type(draft_email))\n",
        "\n",
        "    write_markdown_file(str(draft_email_feedback), \"draft_email_feedback\")\n",
        "    return {\"draft_email_feedback\": draft_email_feedback, \"num_steps\":num_steps}"
      ]
    },
    {
      "cell_type": "code",
      "execution_count": 55,
      "metadata": {
        "id": "crYs4IE-rIxy"
      },
      "outputs": [],
      "source": [
        "def rewrite_email(state):\n",
        "    print(\"---ReWRITE EMAIL ---\")\n",
        "    ## Get the state\n",
        "    initial_email = state[\"initial_email\"]\n",
        "    email_category = state[\"email_category\"]\n",
        "    draft_email = state[\"draft_email\"]\n",
        "    research_info = state[\"research_info\"]\n",
        "    draft_email_feedback = state[\"draft_email_feedback\"]\n",
        "    num_steps = state['num_steps']\n",
        "    num_steps += 1\n",
        "\n",
        "    # Generate draft email\n",
        "    final_email = rewrite_chain.invoke({\"initial_email\": initial_email,\n",
        "                                                \"email_category\": email_category,\n",
        "                                                \"research_info\":research_info,\n",
        "                                                \"draft_email\":draft_email,\n",
        "                                                \"email_analysis\": draft_email_feedback}\n",
        "                                               )\n",
        "\n",
        "    write_markdown_file(str(final_email), \"final_email\")\n",
        "    return {\"final_email\": final_email['final_email'], \"num_steps\":num_steps}"
      ]
    },
    {
      "cell_type": "code",
      "execution_count": 56,
      "metadata": {
        "id": "cjK8J8I0rLGU"
      },
      "outputs": [],
      "source": [
        "def no_rewrite(state):\n",
        "    print(\"---NO REWRITE EMAIL ---\")\n",
        "    ## Get the state\n",
        "    draft_email = state[\"draft_email\"]\n",
        "    num_steps = state['num_steps']\n",
        "    num_steps += 1\n",
        "\n",
        "    write_markdown_file(str(draft_email), \"final_email\")\n",
        "    return {\"final_email\": draft_email, \"num_steps\":num_steps}"
      ]
    },
    {
      "cell_type": "code",
      "execution_count": 57,
      "metadata": {
        "id": "72SVALoArMx4"
      },
      "outputs": [],
      "source": [
        "def state_printer(state):\n",
        "    \"\"\"print the state\"\"\"\n",
        "    print(\"---STATE PRINTER---\")\n",
        "    print(f\"Initial Email: {state['initial_email']} \\n\" )\n",
        "    print(f\"Email Category: {state['email_category']} \\n\")\n",
        "    print(f\"Draft Email: {state['draft_email']} \\n\" )\n",
        "    print(f\"Final Email: {state['final_email']} \\n\" )\n",
        "    print(f\"Research Info: {state['research_info']} \\n\")\n",
        "    print(f\"Info Needed: {state['info_needed']} \\n\")\n",
        "    print(f\"Num Steps: {state['num_steps']} \\n\")\n",
        "    return"
      ]
    },
    {
      "cell_type": "markdown",
      "metadata": {
        "id": "amJ62qwWrRnf"
      },
      "source": [
        "### Conditional Edges"
      ]
    },
    {
      "cell_type": "code",
      "execution_count": 58,
      "metadata": {
        "id": "CZIEAS4RrO8-"
      },
      "outputs": [],
      "source": [
        "def route_to_research(state):\n",
        "    \"\"\"\n",
        "    Route email to web search or not.\n",
        "    Args:\n",
        "        state (dict): The current graph state\n",
        "    Returns:\n",
        "        str: Next node to call\n",
        "    \"\"\"\n",
        "\n",
        "    print(\"---ROUTE TO RESEARCH---\")\n",
        "    initial_email = state[\"initial_email\"]\n",
        "    email_category = state[\"email_category\"]\n",
        "\n",
        "\n",
        "    router = research_router.invoke({\"initial_email\": initial_email,\"email_category\":email_category })\n",
        "    print(router)\n",
        "    # print(type(router))\n",
        "    print(router['router_decision'])\n",
        "    if router['router_decision'] == 'research_info':\n",
        "        print(\"---ROUTE EMAIL TO RESEARCH INFO---\")\n",
        "        return \"research_info\"\n",
        "    elif router['router_decision'] == 'draft_email':\n",
        "        print(\"---ROUTE EMAIL TO DRAFT EMAIL---\")\n",
        "        return \"draft_email\""
      ]
    },
    {
      "cell_type": "code",
      "execution_count": 59,
      "metadata": {
        "id": "haPJ7GbLrUnP"
      },
      "outputs": [],
      "source": [
        "def route_to_rewrite(state):\n",
        "\n",
        "    print(\"---ROUTE TO REWRITE---\")\n",
        "    initial_email = state[\"initial_email\"]\n",
        "    email_category = state[\"email_category\"]\n",
        "    draft_email = state[\"draft_email\"]\n",
        "    research_info = state[\"research_info\"]\n",
        "\n",
        "    # draft_email = \"Yo we can't help you, best regards Sarah\"\n",
        "\n",
        "    router = rewrite_router.invoke({\"initial_email\": initial_email,\n",
        "                                     \"email_category\":email_category,\n",
        "                                     \"draft_email\":draft_email}\n",
        "                                   )\n",
        "    print(router)\n",
        "    print(router['router_decision'])\n",
        "    if router['router_decision'] == 'rewrite':\n",
        "        print(\"---ROUTE TO ANALYSIS - REWRITE---\")\n",
        "        return \"rewrite\"\n",
        "    elif router['router_decision'] == 'no_rewrite':\n",
        "        print(\"---ROUTE EMAIL TO FINAL EMAIL---\")\n",
        "        return \"no_rewrite\""
      ]
    },
    {
      "cell_type": "markdown",
      "metadata": {
        "id": "LYvZazinrYob"
      },
      "source": [
        "## Build the Graph"
      ]
    },
    {
      "cell_type": "markdown",
      "metadata": {
        "id": "Knb8CpGNraZG"
      },
      "source": [
        "### Add Nodes"
      ]
    },
    {
      "cell_type": "code",
      "execution_count": 60,
      "metadata": {
        "id": "N7oyh4PxrXdU"
      },
      "outputs": [],
      "source": [
        "\n",
        "workflow = StateGraph(GraphState)\n",
        "\n",
        "# Define the nodes\n",
        "workflow.add_node(\"categorize_email\", categorize_email) # categorize email\n",
        "workflow.add_node(\"research_info_search\", research_info_search) # web search\n",
        "workflow.add_node(\"state_printer\", state_printer)\n",
        "workflow.add_node(\"draft_email_writer\", draft_email_writer)\n",
        "workflow.add_node(\"analyze_draft_email\", analyze_draft_email)\n",
        "workflow.add_node(\"rewrite_email\", rewrite_email)\n",
        "workflow.add_node(\"no_rewrite\", no_rewrite)\n",
        "\n"
      ]
    },
    {
      "cell_type": "markdown",
      "metadata": {
        "id": "CBU6vvosrhAT"
      },
      "source": [
        "## Add Edges"
      ]
    },
    {
      "cell_type": "code",
      "execution_count": 61,
      "metadata": {
        "id": "pNEpyDLFrdFQ"
      },
      "outputs": [],
      "source": [
        "workflow.set_entry_point(\"categorize_email\")\n",
        "\n",
        "workflow.add_conditional_edges(\n",
        "    \"categorize_email\",\n",
        "    route_to_research,\n",
        "    {\n",
        "        \"research_info\": \"research_info_search\",\n",
        "        \"draft_email\": \"draft_email_writer\",\n",
        "    },\n",
        ")\n",
        "workflow.add_edge(\"research_info_search\", \"draft_email_writer\")\n",
        "\n",
        "\n",
        "workflow.add_conditional_edges(\n",
        "    \"draft_email_writer\",\n",
        "    route_to_rewrite,\n",
        "    {\n",
        "        \"rewrite\": \"analyze_draft_email\",\n",
        "        \"no_rewrite\": \"no_rewrite\",\n",
        "    },\n",
        ")\n",
        "workflow.add_edge(\"analyze_draft_email\", \"rewrite_email\")\n",
        "workflow.add_edge(\"no_rewrite\", \"state_printer\")\n",
        "workflow.add_edge(\"rewrite_email\", \"state_printer\")\n",
        "workflow.add_edge(\"state_printer\", END)"
      ]
    },
    {
      "cell_type": "code",
      "execution_count": 62,
      "metadata": {
        "id": "WoocQ_zJrjVc"
      },
      "outputs": [],
      "source": [
        "# Compile\n",
        "app = workflow.compile()"
      ]
    },
    {
      "cell_type": "code",
      "execution_count": 63,
      "metadata": {
        "id": "wi2vECHRrnjC"
      },
      "outputs": [],
      "source": [
        "# EMAIL = \"\"\"HI there, \\n\n",
        "# I am emailing to find out the current price of Bitcoin. \\n\n",
        "\n",
        "# Can you please help me/\n",
        "\n",
        "# Thanks,\n",
        "# John\n",
        "# \"\"\"\n",
        "\n",
        "EMAIL = \"\"\"HI there, \\n\n",
        "I am emailing to say that I had a wonderful stay at your resort last week. \\n\n",
        "\n",
        "I really appreaciate what your staff did\n",
        "\n",
        "Thanks,\n",
        "Paul\n",
        "\"\"\"\n",
        "\n",
        "EMAIL = \"\"\"HI there, \\n\n",
        "I am emailing to say that the resort weather was way to cloudy and overcast. \\n\n",
        "I wanted to write a song called 'Here comes the sun but it never came'\n",
        "\n",
        "What should be the weather in Arizona in April?\n",
        "\n",
        "I really hope you fix this next time.\n",
        "\n",
        "Thanks,\n",
        "George\n",
        "\"\"\"\n",
        "\n",
        "# EMAIL = \"\"\"HI there, \\n\n",
        "# Why can't I get to sing?\n",
        "\n",
        "# Thanks,\n",
        "# Ringo\n",
        "# \"\"\"\n",
        "\n",
        "# EMAIL = \"\"\"HI there, \\n\n",
        "# Thanks for confirming my booking\n",
        "\n",
        "# Thanks,\n",
        "# Ringo\n",
        "# \"\"\""
      ]
    },
    {
      "cell_type": "code",
      "execution_count": 64,
      "metadata": {
        "colab": {
          "base_uri": "https://localhost:8080/"
        },
        "id": "m5SGVW-Trqvt",
        "outputId": "864d8413-48f9-4a2d-a34e-cf2cf3fb9967"
      },
      "outputs": [
        {
          "name": "stdout",
          "output_type": "stream",
          "text": [
            "---CATEGORIZING INITIAL EMAIL---\n",
            "'general'\n",
            "---ROUTE TO RESEARCH---\n",
            "{'router_decision': 'research_info'}\n",
            "research_info\n",
            "---ROUTE EMAIL TO RESEARCH INFO---\n",
            "'Finished running: categorize_email:'\n",
            "---RESEARCH INFO SEARCHING---\n",
            "Arizona weather April\n",
            "[Document(page_content=\"{'location': {'name': 'Arizona', 'region': 'Atlantida', 'country': 'Honduras', 'lat': 15.63, 'lon': -87.32, 'tz_id': 'America/Tegucigalpa', 'localtime_epoch': 1722189435, 'localtime': '2024-07-28 11:57'}, 'current': {'last_updated_epoch': 1722188700, 'last_updated': '2024-07-28 11:45', 'temp_c': 28.7, 'temp_f': 83.6, 'is_day': 1, 'condition': {'text': 'Light rain shower', 'icon': '//cdn.weatherapi.com/weather/64x64/day/353.png', 'code': 1240}, 'wind_mph': 7.2, 'wind_kph': 11.5, 'wind_degree': 22, 'wind_dir': 'NNE', 'pressure_mb': 1012.0, 'pressure_in': 29.9, 'precip_mm': 0.93, 'precip_in': 0.04, 'humidity': 78, 'cloud': 55, 'feelslike_c': 33.6, 'feelslike_f': 92.5, 'windchill_c': 28.7, 'windchill_f': 83.6, 'heatindex_c': 33.6, 'heatindex_f': 92.5, 'dewpoint_c': 25.0, 'dewpoint_f': 76.9, 'vis_km': 10.0, 'vis_miles': 6.0, 'uv': 6.0, 'gust_mph': 9.1, 'gust_kph': 14.7}}\\nPast Weather in Phoenix, Arizona, USA — April 2024. Time/General. Weather. Time Zone. DST Changes. Sun & Moon. Weather Today Weather Hourly 14 Day Forecast Yesterday/Past Weather Climate (Averages) Currently: 97 °F. Mostly cloudy.\\nFree Long Range Weather Forecast for Phoenix, Arizona April 2024. Calendar overview of Months Weather Forecast. ... Arizona April 2024. Calendar overview of Months Weather Forecast. °F °C. Help > > United States Phoenix, Arizona Long Range Weather Forecast Helping You Avoid Bad Weather. 30 days and beyond. Calendar Forecast ...\\nDetailed ⚡ Tucson Weather Forecast for April 2024 - day/night 🌡️ temperatures, precipitations - World-Weather.info. Add the current city. Search. Weather; Archive; Widgets °F. World; United States; Arizona; Weather in Tucson; Weather in Tucson in April 2024. Tucson Weather Forecast for April 2024 is based on statistical data. 2015 ...\\nPhoenix Temperature History April 2024. The daily range of reported temperatures (gray bars) and 24-hour highs (red ticks) and lows (blue ticks), placed over the daily average high (faint red line) and low (faint blue line) temperature, with 25th to 75th and 10th to 90th percentile bands.\")]\n",
            "<class 'list'>\n",
            "'Finished running: research_info_search:'\n",
            "---DRAFT EMAIL WRITER---\n",
            "{'email_draft': \"Hi George,\\n\\nThank you for reaching out to us about your experience with the resort weather. I'm so sorry to hear it was overcast and cloudy during your stay. I can understand why you'd want to write a song about it!\\n\\nRegarding your question about the weather in Arizona in April, our research indicates that the temperatures during that time are usually warm, with highs around 97°F (36°C) and lows around 64°F (18°C). It's not uncommon to have some cloudy days, but we hope that the sunny days make up for it.\\n\\nWe appreciate your feedback and will take it into consideration for future improvements. If you have any more questions or concerns, please don't hesitate to reach out.\\n\\nBest regards,\\nSarah the Resident Manager\"}\n",
            "---ROUTE TO REWRITE---\n",
            "{'router_decision': 'no_rewrite'}\n",
            "no_rewrite\n",
            "---ROUTE EMAIL TO FINAL EMAIL---\n",
            "'Finished running: draft_email_writer:'\n",
            "---NO REWRITE EMAIL ---\n",
            "'Finished running: no_rewrite:'\n",
            "---STATE PRINTER---\n",
            "Initial Email: HI there, \n",
            "\n",
            "I am emailing to say that the resort weather was way to cloudy and overcast. \n",
            "\n",
            "I wanted to write a song called 'Here comes the sun but it never came'\n",
            "\n",
            "What should be the weather in Arizona in April?\n",
            "\n",
            "I really hope you fix this next time.\n",
            "\n",
            "Thanks,\n",
            "George\n",
            " \n",
            "\n",
            "Email Category: 'general' \n",
            "\n",
            "Draft Email: Hi George,\n",
            "\n",
            "Thank you for reaching out to us about your experience with the resort weather. I'm so sorry to hear it was overcast and cloudy during your stay. I can understand why you'd want to write a song about it!\n",
            "\n",
            "Regarding your question about the weather in Arizona in April, our research indicates that the temperatures during that time are usually warm, with highs around 97°F (36°C) and lows around 64°F (18°C). It's not uncommon to have some cloudy days, but we hope that the sunny days make up for it.\n",
            "\n",
            "We appreciate your feedback and will take it into consideration for future improvements. If you have any more questions or concerns, please don't hesitate to reach out.\n",
            "\n",
            "Best regards,\n",
            "Sarah the Resident Manager \n",
            "\n",
            "Final Email: Hi George,\n",
            "\n",
            "Thank you for reaching out to us about your experience with the resort weather. I'm so sorry to hear it was overcast and cloudy during your stay. I can understand why you'd want to write a song about it!\n",
            "\n",
            "Regarding your question about the weather in Arizona in April, our research indicates that the temperatures during that time are usually warm, with highs around 97°F (36°C) and lows around 64°F (18°C). It's not uncommon to have some cloudy days, but we hope that the sunny days make up for it.\n",
            "\n",
            "We appreciate your feedback and will take it into consideration for future improvements. If you have any more questions or concerns, please don't hesitate to reach out.\n",
            "\n",
            "Best regards,\n",
            "Sarah the Resident Manager \n",
            "\n",
            "Research Info: [Document(page_content=\"{'location': {'name': 'Arizona', 'region': 'Atlantida', 'country': 'Honduras', 'lat': 15.63, 'lon': -87.32, 'tz_id': 'America/Tegucigalpa', 'localtime_epoch': 1722189435, 'localtime': '2024-07-28 11:57'}, 'current': {'last_updated_epoch': 1722188700, 'last_updated': '2024-07-28 11:45', 'temp_c': 28.7, 'temp_f': 83.6, 'is_day': 1, 'condition': {'text': 'Light rain shower', 'icon': '//cdn.weatherapi.com/weather/64x64/day/353.png', 'code': 1240}, 'wind_mph': 7.2, 'wind_kph': 11.5, 'wind_degree': 22, 'wind_dir': 'NNE', 'pressure_mb': 1012.0, 'pressure_in': 29.9, 'precip_mm': 0.93, 'precip_in': 0.04, 'humidity': 78, 'cloud': 55, 'feelslike_c': 33.6, 'feelslike_f': 92.5, 'windchill_c': 28.7, 'windchill_f': 83.6, 'heatindex_c': 33.6, 'heatindex_f': 92.5, 'dewpoint_c': 25.0, 'dewpoint_f': 76.9, 'vis_km': 10.0, 'vis_miles': 6.0, 'uv': 6.0, 'gust_mph': 9.1, 'gust_kph': 14.7}}\\nPast Weather in Phoenix, Arizona, USA — April 2024. Time/General. Weather. Time Zone. DST Changes. Sun & Moon. Weather Today Weather Hourly 14 Day Forecast Yesterday/Past Weather Climate (Averages) Currently: 97 °F. Mostly cloudy.\\nFree Long Range Weather Forecast for Phoenix, Arizona April 2024. Calendar overview of Months Weather Forecast. ... Arizona April 2024. Calendar overview of Months Weather Forecast. °F °C. Help > > United States Phoenix, Arizona Long Range Weather Forecast Helping You Avoid Bad Weather. 30 days and beyond. Calendar Forecast ...\\nDetailed ⚡ Tucson Weather Forecast for April 2024 - day/night 🌡️ temperatures, precipitations - World-Weather.info. Add the current city. Search. Weather; Archive; Widgets °F. World; United States; Arizona; Weather in Tucson; Weather in Tucson in April 2024. Tucson Weather Forecast for April 2024 is based on statistical data. 2015 ...\\nPhoenix Temperature History April 2024. The daily range of reported temperatures (gray bars) and 24-hour highs (red ticks) and lows (blue ticks), placed over the daily average high (faint red line) and low (faint blue line) temperature, with 25th to 75th and 10th to 90th percentile bands.\")] \n",
            "\n",
            "Info Needed: None \n",
            "\n",
            "Num Steps: 4 \n",
            "\n"
          ]
        }
      ],
      "source": [
        "# run the agent\n",
        "inputs = {\"initial_email\": EMAIL,\"research_info\": None, \"num_steps\":0}\n",
        "for output in app.stream(inputs):\n",
        "    for key, value in output.items():\n",
        "        pprint(f\"Finished running: {key}:\")"
      ]
    },
    {
      "cell_type": "code",
      "execution_count": 65,
      "metadata": {
        "colab": {
          "base_uri": "https://localhost:8080/"
        },
        "id": "ykaMqVVJrwEo",
        "outputId": "39b22dc5-9497-4f0d-e6d3-1ce07e53966c"
      },
      "outputs": [
        {
          "name": "stdout",
          "output_type": "stream",
          "text": [
            "---CATEGORIZING INITIAL EMAIL---\n",
            "'review'\n",
            "---ROUTE TO RESEARCH---\n",
            "{'router_decision': 'research_info'}\n",
            "research_info\n",
            "---ROUTE EMAIL TO RESEARCH INFO---\n",
            "---RESEARCH INFO SEARCHING---\n",
            "Arizona weather April\n",
            "[Document(page_content=\"{'location': {'name': 'Arizona', 'region': 'Atlantida', 'country': 'Honduras', 'lat': 15.63, 'lon': -87.32, 'tz_id': 'America/Tegucigalpa', 'localtime_epoch': 1722189435, 'localtime': '2024-07-28 11:57'}, 'current': {'last_updated_epoch': 1722188700, 'last_updated': '2024-07-28 11:45', 'temp_c': 28.7, 'temp_f': 83.6, 'is_day': 1, 'condition': {'text': 'Light rain shower', 'icon': '//cdn.weatherapi.com/weather/64x64/day/353.png', 'code': 1240}, 'wind_mph': 7.2, 'wind_kph': 11.5, 'wind_degree': 22, 'wind_dir': 'NNE', 'pressure_mb': 1012.0, 'pressure_in': 29.9, 'precip_mm': 0.93, 'precip_in': 0.04, 'humidity': 78, 'cloud': 55, 'feelslike_c': 33.6, 'feelslike_f': 92.5, 'windchill_c': 28.7, 'windchill_f': 83.6, 'heatindex_c': 33.6, 'heatindex_f': 92.5, 'dewpoint_c': 25.0, 'dewpoint_f': 76.9, 'vis_km': 10.0, 'vis_miles': 6.0, 'uv': 6.0, 'gust_mph': 9.1, 'gust_kph': 14.7}}\\n2 April 2024 Climate Summary NWS Phoenix, AZ Yuma, AZ 2024 Normal 1991-2020 2024 Normal 1991-2020 2024 Normal 1991-2020 Average High Temperature 85.5 °F 86.4 °F Mean Temperature 71.9 °F 73.1 °F Average Low\\nDetailed ⚡ Tucson Weather Forecast for April 2024 - day/night 🌡️ temperatures, precipitations - World-Weather.info\\nDetailed ⚡ Phoenix Weather Forecast for April 2024 - day/night 🌡️ temperatures, precipitations - World-Weather.info\\nWeather reports from April 2024 in Phoenix, Arizona, USA with highs and lows\")]\n",
            "<class 'list'>\n",
            "---DRAFT EMAIL WRITER---\n",
            "{'email_draft': \"Hi George,\\n\\nThank you for reaching out to us about your experience with the resort weather. I'm so sorry to hear that it was cloudy and overcast during your stay. I can understand why you'd want to write a song about it!\\n\\nRegarding your question about the weather in Arizona in April, according to our research, the average high temperature in April is around 85.5°F (29.7°C), with average lows around 56.6°F (13.7°C). It's not uncommon to have some cloudy days, but we apologize that it didn't quite live up to your expectations.\\n\\nWe appreciate your feedback and will take it into consideration for future improvements. If you have any other concerns or suggestions, please don't hesitate to reach out.\\n\\nThank you again for your email, and I hope you get to see the sun shining brightly on your next visit!\\n\\nBest regards,\\nSarah, Resident Manager\"}\n",
            "---ROUTE TO REWRITE---\n",
            "{'router_decision': 'no_rewrite'}\n",
            "no_rewrite\n",
            "---ROUTE EMAIL TO FINAL EMAIL---\n",
            "---NO REWRITE EMAIL ---\n",
            "---STATE PRINTER---\n",
            "Initial Email: HI there, \n",
            "\n",
            "I am emailing to say that the resort weather was way to cloudy and overcast. \n",
            "\n",
            "I wanted to write a song called 'Here comes the sun but it never came'\n",
            "\n",
            "What should be the weather in Arizona in April?\n",
            "\n",
            "I really hope you fix this next time.\n",
            "\n",
            "Thanks,\n",
            "George\n",
            " \n",
            "\n",
            "Email Category: 'review' \n",
            "\n",
            "Draft Email: Hi George,\n",
            "\n",
            "Thank you for reaching out to us about your experience with the resort weather. I'm so sorry to hear that it was cloudy and overcast during your stay. I can understand why you'd want to write a song about it!\n",
            "\n",
            "Regarding your question about the weather in Arizona in April, according to our research, the average high temperature in April is around 85.5°F (29.7°C), with average lows around 56.6°F (13.7°C). It's not uncommon to have some cloudy days, but we apologize that it didn't quite live up to your expectations.\n",
            "\n",
            "We appreciate your feedback and will take it into consideration for future improvements. If you have any other concerns or suggestions, please don't hesitate to reach out.\n",
            "\n",
            "Thank you again for your email, and I hope you get to see the sun shining brightly on your next visit!\n",
            "\n",
            "Best regards,\n",
            "Sarah, Resident Manager \n",
            "\n",
            "Final Email: Hi George,\n",
            "\n",
            "Thank you for reaching out to us about your experience with the resort weather. I'm so sorry to hear that it was cloudy and overcast during your stay. I can understand why you'd want to write a song about it!\n",
            "\n",
            "Regarding your question about the weather in Arizona in April, according to our research, the average high temperature in April is around 85.5°F (29.7°C), with average lows around 56.6°F (13.7°C). It's not uncommon to have some cloudy days, but we apologize that it didn't quite live up to your expectations.\n",
            "\n",
            "We appreciate your feedback and will take it into consideration for future improvements. If you have any other concerns or suggestions, please don't hesitate to reach out.\n",
            "\n",
            "Thank you again for your email, and I hope you get to see the sun shining brightly on your next visit!\n",
            "\n",
            "Best regards,\n",
            "Sarah, Resident Manager \n",
            "\n",
            "Research Info: [Document(page_content=\"{'location': {'name': 'Arizona', 'region': 'Atlantida', 'country': 'Honduras', 'lat': 15.63, 'lon': -87.32, 'tz_id': 'America/Tegucigalpa', 'localtime_epoch': 1722189435, 'localtime': '2024-07-28 11:57'}, 'current': {'last_updated_epoch': 1722188700, 'last_updated': '2024-07-28 11:45', 'temp_c': 28.7, 'temp_f': 83.6, 'is_day': 1, 'condition': {'text': 'Light rain shower', 'icon': '//cdn.weatherapi.com/weather/64x64/day/353.png', 'code': 1240}, 'wind_mph': 7.2, 'wind_kph': 11.5, 'wind_degree': 22, 'wind_dir': 'NNE', 'pressure_mb': 1012.0, 'pressure_in': 29.9, 'precip_mm': 0.93, 'precip_in': 0.04, 'humidity': 78, 'cloud': 55, 'feelslike_c': 33.6, 'feelslike_f': 92.5, 'windchill_c': 28.7, 'windchill_f': 83.6, 'heatindex_c': 33.6, 'heatindex_f': 92.5, 'dewpoint_c': 25.0, 'dewpoint_f': 76.9, 'vis_km': 10.0, 'vis_miles': 6.0, 'uv': 6.0, 'gust_mph': 9.1, 'gust_kph': 14.7}}\\n2 April 2024 Climate Summary NWS Phoenix, AZ Yuma, AZ 2024 Normal 1991-2020 2024 Normal 1991-2020 2024 Normal 1991-2020 Average High Temperature 85.5 °F 86.4 °F Mean Temperature 71.9 °F 73.1 °F Average Low\\nDetailed ⚡ Tucson Weather Forecast for April 2024 - day/night 🌡️ temperatures, precipitations - World-Weather.info\\nDetailed ⚡ Phoenix Weather Forecast for April 2024 - day/night 🌡️ temperatures, precipitations - World-Weather.info\\nWeather reports from April 2024 in Phoenix, Arizona, USA with highs and lows\")] \n",
            "\n",
            "Info Needed: None \n",
            "\n",
            "Num Steps: 4 \n",
            "\n",
            "Hi George,\n",
            "\n",
            "Thank you for reaching out to us about your experience with the resort weather. I'm so sorry to hear that it was cloudy and overcast during your stay. I can understand why you'd want to write a song about it!\n",
            "\n",
            "Regarding your question about the weather in Arizona in April, according to our research, the average high temperature in April is around 85.5°F (29.7°C), with average lows around 56.6°F (13.7°C). It's not uncommon to have some cloudy days, but we apologize that it didn't quite live up to your expectations.\n",
            "\n",
            "We appreciate your feedback and will take it into consideration for future improvements. If you have any other concerns or suggestions, please don't hesitate to reach out.\n",
            "\n",
            "Thank you again for your email, and I hope you get to see the sun shining brightly on your next visit!\n",
            "\n",
            "Best regards,\n",
            "Sarah, Resident Manager\n"
          ]
        }
      ],
      "source": [
        "output = app.invoke(inputs)\n",
        "\n",
        "print(output['final_email'])"
      ]
    },
    {
      "cell_type": "code",
      "execution_count": 66,
      "metadata": {
        "colab": {
          "base_uri": "https://localhost:8080/"
        },
        "id": "CqKcOOw-r3sY",
        "outputId": "f7e745cd-3839-405b-cbff-4c44727b64a4"
      },
      "outputs": [
        {
          "name": "stderr",
          "output_type": "stream",
          "text": [
            "'cat' is not recognized as an internal or external command,\n",
            "operable program or batch file.\n"
          ]
        }
      ],
      "source": [
        "!cat /content/email_category.md"
      ]
    },
    {
      "cell_type": "code",
      "execution_count": 67,
      "metadata": {
        "colab": {
          "base_uri": "https://localhost:8080/"
        },
        "id": "ll5Dtr1ir62d",
        "outputId": "d67d6a59-0c6d-4251-839a-030e2675e5bd"
      },
      "outputs": [
        {
          "name": "stderr",
          "output_type": "stream",
          "text": [
            "'cat' is not recognized as an internal or external command,\n",
            "operable program or batch file.\n"
          ]
        }
      ],
      "source": [
        "!cat /content/draft_email.md"
      ]
    },
    {
      "cell_type": "code",
      "execution_count": 36,
      "metadata": {
        "id": "ZfdC7z0fr88w"
      },
      "outputs": [],
      "source": []
    }
  ],
  "metadata": {
    "colab": {
      "provenance": []
    },
    "kernelspec": {
      "display_name": "Python 3",
      "name": "python3"
    },
    "language_info": {
      "codemirror_mode": {
        "name": "ipython",
        "version": 3
      },
      "file_extension": ".py",
      "mimetype": "text/x-python",
      "name": "python",
      "nbconvert_exporter": "python",
      "pygments_lexer": "ipython3",
      "version": "3.12.3"
    }
  },
  "nbformat": 4,
  "nbformat_minor": 0
}
